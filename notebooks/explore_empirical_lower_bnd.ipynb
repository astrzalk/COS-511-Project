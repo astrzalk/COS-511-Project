{
 "cells": [
  {
   "cell_type": "code",
   "execution_count": null,
   "metadata": {},
   "outputs": [],
   "source": [
    "%matplotlib inline\n",
    "\n",
    "import sys\n",
    "sys.path.append(\"..\") # This allows for importing from other directories above\n",
    "\n",
    "# from models.adaboost_mh import AdaBoostMH\n",
    "import numpy as np\n",
    "import matplotlib.pyplot as plt\n",
    "from data.utils.fetch_data import get_Wts_and_vts\n",
    "\n",
    "# Load data\n",
    "## Load W_ts and vts\n",
    "rel_path = '../data/'\n",
    "Wts_pen, vts_pen = get_Wts_and_vts(rel_path, 'pen')\n",
    "Wts_iso, vts_iso = get_Wts_and_vts(rel_path, 'iso')\n",
    "\n",
    "## Load labels for both W_ts and vts\n",
    "y_pen = np.load(rel_path + 'pendigits/pendigits_train_labels.npy')\n",
    "k_pen = 10\n",
    "# careful isolet_train_labels are floats...\n",
    "# IT ALSO ISN\"T ZERO INDEXED!!!\n",
    "y_iso = np.load(rel_path + 'isolet/isolet_train_labels.npy').astype('int')\n",
    "y_iso = y_iso - 1\n",
    "k_iso = 26"
   ]
  },
  {
   "cell_type": "code",
   "execution_count": null,
   "metadata": {},
   "outputs": [],
   "source": [
    "# One hot encode \n",
    "def one_hot_labels(y,k):\n",
    "    \"\"\"\n",
    "    y: N by 1 numpy-array corresponding to the labels.\n",
    "    k: float, corresponding to number of unique classes.\n",
    "    returns: Y, an N by k numpy-array with each row containing\n",
    "             a 1 for the correct class and -1 otherwise.\n",
    "    \"\"\"\n",
    "    N = y.shape[0]\n",
    "    Y = np.ones((N, k)) * -1\n",
    "    for i in range(N):\n",
    "        Y[i, y[i]] *= -1 # Make the correct class become +1.\n",
    "    return Y"
   ]
  },
  {
   "cell_type": "code",
   "execution_count": null,
   "metadata": {},
   "outputs": [],
   "source": [
    "# Transform y (n,) -> Y (n, k)\n",
    "Y_pen = one_hot_labels(y_pen, k_pen)\n",
    "Y_iso = one_hot_labels(y_iso, k_iso)"
   ]
  },
  {
   "cell_type": "code",
   "execution_count": null,
   "metadata": {},
   "outputs": [],
   "source": [
    "def calc_pseudo_ws(Wts, vts, Y):\n",
    "    T = 30\n",
    "    w_pseudo_ts = []\n",
    "    for t in range(T):\n",
    "        W_t = Wts[t + 1] # skip W_0\n",
    "        v_t = vts[t] \n",
    "        # Get all the y_i,l * v_l in one matrix\n",
    "        Y_mult_v_t = np.multiply(Y, v_t)\n",
    "        # The above is either 1 or -1, to get an indicator\n",
    "        # about whether their product is +1 or -1 you can \n",
    "        # add one to the whole matrix and all the -1 -> 0,\n",
    "        # or add negative one to the whole matrix and all\n",
    "        # the +1 -> 0. You just need to normalize by \\pm 1/2,\n",
    "        # to get an indicator or a matrix mask.\n",
    "        w_p_mask = ((Y_mult_v_t + 1) * 0.5).astype('int')\n",
    "        w_n_mask = ((Y_mult_v_t - 1) * -0.5).astype('int')\n",
    "        w_p_t = np.sum(np.multiply(W_t, w_p_mask), axis=1)\n",
    "        w_n_t = np.sum(np.multiply(W_t, w_n_mask), axis=1)\n",
    "        w_pseudo_t = np.sum(np.abs(w_p_t - w_n_t))\n",
    "        w_pseudo_ts.append(w_pseudo_t)\n",
    "    return w_pseudo_ts"
   ]
  },
  {
   "cell_type": "code",
   "execution_count": null,
   "metadata": {},
   "outputs": [],
   "source": [
    "w_pseudo_pen = calc_pseudo_ws(Wts_pen, vts_pen, Y_pen)\n",
    "w_pseudo_iso = calc_pseudo_ws(Wts_iso, vts_iso, Y_iso)"
   ]
  },
  {
   "cell_type": "code",
   "execution_count": null,
   "metadata": {},
   "outputs": [],
   "source": [
    "# Function for plotting Pseudo weights on same plot for two datasets\n",
    "def plot_ws(ws_pen, ws_iso, title):\n",
    "    T = len(ws_pen)\n",
    "    ts = np.linspace(1, T, num=T)\n",
    "    plt.plot(ts, ws_pen, label='Pen digits data')\n",
    "    plt.plot(ts, ws_iso, label='Isolets data')\n",
    "    plt.legend(loc='best')\n",
    "    plt.xlabel(\"T\")\n",
    "    plt.ylabel(\"Pseudo Weight Value\")\n",
    "    plt.title(title)"
   ]
  },
  {
   "cell_type": "code",
   "execution_count": null,
   "metadata": {},
   "outputs": [],
   "source": [
    "plot_ws(w_pseudo_pen, w_pseudo_iso, \"Pseudo Weights over 30 rounds\")"
   ]
  }
 ],
 "metadata": {
  "kernelspec": {
   "display_name": "Python 3",
   "language": "python",
   "name": "python3"
  },
  "language_info": {
   "codemirror_mode": {
    "name": "ipython",
    "version": 3
   },
   "file_extension": ".py",
   "mimetype": "text/x-python",
   "name": "python",
   "nbconvert_exporter": "python",
   "pygments_lexer": "ipython3",
   "version": "3.7.0"
  }
 },
 "nbformat": 4,
 "nbformat_minor": 2
}
