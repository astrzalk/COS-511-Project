{
 "cells": [
  {
   "cell_type": "code",
   "execution_count": null,
   "metadata": {},
   "outputs": [],
   "source": [
    "%matplotlib inline\n",
    "\n",
    "import sys\n",
    "sys.path.append(\"..\") # This allows for importing from other directories above\n",
    "# Our imports\n",
    "from models.adaboost_mh import AdaBoostMH\n",
    "from models.weak_learner import stump_base as weak_clf\n",
    "# Standard Imports\n",
    "import numpy as np\n",
    "import matplotlib.pyplot as plt\n",
    "\n",
    "\n",
    "# Load the data\n",
    "X_train = np.load('../data/pendigits_train_data.npy')\n",
    "y_train = np.load('../data/pendigits_train_labels.npy')\n",
    "X_test = np.load('../data/pendigits_test_data.npy')\n",
    "y_test = np.load('../data/pendigits_test_labels.npy')\n",
    "\n",
    "# Initialize model \n",
    "model = AdaBoostMH(X_train, y_train, X_test, y_test)"
   ]
  },
  {
   "cell_type": "code",
   "execution_count": null,
   "metadata": {},
   "outputs": [],
   "source": [
    "# Set parameters\n",
    "T, W_init = 10, True"
   ]
  },
  {
   "cell_type": "code",
   "execution_count": null,
   "metadata": {},
   "outputs": [],
   "source": [
    "# Test that it runs okay just for a single T\n",
    "err_tr, err_te, gammas, D_ts = model.run_factorized(T, weak_clf, W_init, True) # verbose True\n",
    "print(\"The training error is {}.\\nThe testing error is {}.\".format(err_tr, err_te))"
   ]
  },
  {
   "cell_type": "code",
   "execution_count": null,
   "metadata": {},
   "outputs": [],
   "source": [
    "# Train the model. Note this should be the longest step.\n",
    "model_performance = [model.run_factorized(T, weak_clf, W_init) for t in range(T)] "
   ]
  },
  {
   "cell_type": "code",
   "execution_count": null,
   "metadata": {},
   "outputs": [],
   "source": [
    "# Extract model performance metrics into separate lists\n",
    "model_tuples = [[tups[i] for tups in model_performance] for i in range(4)] # 4 = num ele in each tuple \n",
    "err_tr, err_te, gammas, D_ts = model_tuples[0], model_tuples[1], model_tuples[2], model_tuples[3]"
   ]
  },
  {
   "cell_type": "code",
   "execution_count": null,
   "metadata": {},
   "outputs": [],
   "source": [
    "# Function for plotting training and testing error on same plot\n",
    "def plot_error(err_tr, err_te, title):\n",
    "    T = len(err_tr)\n",
    "    ts = np.linspace(1, T, num=T)\n",
    "    plt.plot(ts, err_tr, label='Training Error')\n",
    "    plt.plot(ts, err_te, label='Testing Error')\n",
    "    plt.legend(loc='best')\n",
    "    plt.xlabel(\"T\")\n",
    "    plt.title(title)"
   ]
  },
  {
   "cell_type": "code",
   "execution_count": null,
   "metadata": {},
   "outputs": [],
   "source": [
    "# ecdf taken from https://stackoverflow.com/questions/15792552/numpy-scipy-equivalent-of-r-ecdfxx-function\n",
    "# ecdf = Empirical Cumulative Distribution Function\n",
    "def ecdf(x):\n",
    "    xs = np.sort(x)\n",
    "    ys = np.arange(1, len(xs)+1)/float(len(xs))\n",
    "    return xs, ys\n",
    "\n",
    "# Function for plotting the gammas, either plots ecdf or gamma change over rounds\n",
    "def plot_gammas(gammas, which_plot, title):\n",
    "    if which_plot == 'cdf'\n",
    "        xs, ys = ecdf(gammas)\n",
    "        plt.plot(xs, ys)\n",
    "        plt.title(title)\n",
    "    else:\n",
    "        T = len(gammas)\n",
    "        ts = np.linspace(1, T, num=T)\n",
    "        plt.plot(ts, gammas)\n",
    "        plt.xlabel(\"T\")\n",
    "        plt.ylabel(\"gamma\")\n",
    "        plt.title(title)"
   ]
  },
  {
   "cell_type": "code",
   "execution_count": null,
   "metadata": {},
   "outputs": [],
   "source": [
    "# Plot training and testing error\n",
    "title = \"Error for Factorized Model on Penn Digits\"\n",
    "plot_error(err_tr, err_te, title)"
   ]
  },
  {
   "cell_type": "code",
   "execution_count": null,
   "metadata": {},
   "outputs": [],
   "source": [
    "# Plot change for gamma_t over T rounds\n",
    "plot_gammas(gammas, 'gamma_rate', 'Gamma over T rounds')"
   ]
  },
  {
   "cell_type": "code",
   "execution_count": null,
   "metadata": {},
   "outputs": [],
   "source": [
    "# Plot cdf for gammas\n",
    "plot_gammas(gammas, 'cdf', 'CDF for Gammas over all rounds T')"
   ]
  }
 ],
 "metadata": {
  "kernelspec": {
   "display_name": "Python 3",
   "language": "python",
   "name": "python3"
  },
  "language_info": {
   "codemirror_mode": {
    "name": "ipython",
    "version": 3
   },
   "file_extension": ".py",
   "mimetype": "text/x-python",
   "name": "python",
   "nbconvert_exporter": "python",
   "pygments_lexer": "ipython3",
   "version": "3.7.0"
  }
 },
 "nbformat": 4,
 "nbformat_minor": 2
}
