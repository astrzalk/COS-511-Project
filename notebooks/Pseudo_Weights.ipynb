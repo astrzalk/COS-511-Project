{
 "cells": [
  {
   "cell_type": "code",
   "execution_count": 8,
   "metadata": {},
   "outputs": [],
   "source": [
    "%matplotlib inline\n",
    "\n",
    "import sys\n",
    "sys.path.append(\"..\") # This allows for importing from other directories above\n",
    "# Our imports\n",
    "from models.adaboost_mh import AdaBoostMH\n",
    "from models.weak_learner import stump_base as weak_clf\n",
    "# Standard Imports\n",
    "import numpy as np\n",
    "import matplotlib.pyplot as plt\n",
    "\n",
    "\n",
    "# Load the data\n",
    "switch = 5\n",
    "if switch == 0:\n",
    "    X_train = np.load('../data/pendigits/train_data.npy')\n",
    "    y_train = np.load('../data/pendigits/train_labels.npy')\n",
    "    X_test = np.load('../data/pendigits/test_data.npy')\n",
    "    y_test = np.load('../data/pendigits/test_labels.npy')\n",
    "    k = 10\n",
    "elif switch == 1:\n",
    "    X_train = np.load('../data/synth/single/ten/train_data.npy')\n",
    "    y_train = np.load('../data/synth/single/ten/train_labels.npy')\n",
    "    X_test = np.load('../data/synth/single/ten/test_data.npy')\n",
    "    y_test = np.load('../data/synth/single/ten/test_labels.npy')\n",
    "    k = 10\n",
    "elif switch == 2: # pseudo = 1\n",
    "    X_train = np.load('../data/synth/two/train_data.npy')\n",
    "    y_train = np.load('../data/synth/two/train_labels.npy')\n",
    "    X_test = np.load('../data/synth/two/test_data.npy')\n",
    "    y_test = np.load('../data/synth/two/test_labels.npy')\n",
    "    k = 2\n",
    "elif switch == 3:\n",
    "    X_train = np.load('../data/synth/single/three/train_data.npy')\n",
    "    y_train = np.load('../data/synth/single/three/train_labels.npy')\n",
    "    X_test = np.load('../data/synth/single/three/test_data.npy')\n",
    "    y_test = np.load('../data/synth/single/three/test_labels.npy')\n",
    "    k = 3\n",
    "elif switch == 4:\n",
    "    X_train = np.load('../data/synth/single/four/train_data.npy')\n",
    "    y_train = np.load('../data/synth/single/four/train_labels.npy')\n",
    "    X_test = np.load('../data/synth/single/four/test_data.npy')\n",
    "    y_test = np.load('../data/synth/single/four/test_labels.npy')\n",
    "    k = 4\n",
    "elif switch == 5:\n",
    "    X_train = np.load('../data/synth/single/half/train_data.npy')\n",
    "    y_train = np.load('../data/synth/single/half/train_labels.npy')\n",
    "    X_test = np.load('../data/synth/single/half/test_data.npy')\n",
    "    y_test = np.load('../data/synth/single/half/test_labels.npy')\n",
    "    k = 2\n",
    "elif switch == 6:\n",
    "    X_train = np.load('../data/synth/multi/incr/train_data.npy')\n",
    "    y_train = np.load('../data/synth/multi/incr/train_labels.npy')\n",
    "    X_test = np.load('../data/synth/multi/incr/test_data.npy')\n",
    "    y_test = np.load('../data/synth/multi/incr/test_labels.npy')\n",
    "    k = 4\n",
    "else:\n",
    "    X_train = np.load('../data/synth/multi/alt/train_data.npy')\n",
    "    y_train = np.load('../data/synth/multi/alt/train_labels.npy')\n",
    "    X_test = np.load('../data/synth/multi/alt/test_data.npy')\n",
    "    y_test = np.load('../data/synth/multi/alt/test_labels.npy')\n",
    "    k = 4\n",
    "    \n",
    "#y_train = y_train[0:15]\n",
    "#X_train = X_train[0:15]\n",
    "\n",
    "#y_train = np.concatenate((y_train, y_train), axis=0)\n",
    "#y_train = np.concatenate((y_train, y_train), axis=0)\n",
    "#y_train = np.concatenate((y_train, y_train), axis=0)\n",
    "#y_train = np.concatenate((y_train, y_train), axis=0)\n",
    "#n = y_train.shape[0]\n",
    "#print(n)\n",
    "#X_train = np.atleast_2d(np.array(list(range(0,n)))).T\n",
    "\n",
    "\n",
    "# Initialize model \n",
    "model = AdaBoostMH(X_train, y_train, X_test, y_test, k, 0.5)"
   ]
  },
  {
   "cell_type": "code",
   "execution_count": 9,
   "metadata": {},
   "outputs": [],
   "source": [
    "T = 1000\n",
    "verbose = 0"
   ]
  },
  {
   "cell_type": "code",
   "execution_count": 13,
   "metadata": {},
   "outputs": [
    {
     "name": "stderr",
     "output_type": "stream",
     "text": [
      "../models/weak_learner.py:61: RuntimeWarning: divide by zero encountered in double_scalars\n",
      "  alpha = 0.5 * np.log((eps_pls) / (eps_min))\n",
      "../models/adaboost_mh.py:270: RuntimeWarning: invalid value encountered in true_divide\n",
      "  D_t /= np.sum(D_t)\n"
     ]
    },
    {
     "ename": "UnboundLocalError",
     "evalue": "local variable 'alpha_best' referenced before assignment",
     "output_type": "error",
     "traceback": [
      "\u001b[0;31m---------------------------------------------------------------------------\u001b[0m",
      "\u001b[0;31mUnboundLocalError\u001b[0m                         Traceback (most recent call last)",
      "\u001b[0;32m<ipython-input-13-c9ba13c0b529>\u001b[0m in \u001b[0;36m<module>\u001b[0;34m()\u001b[0m\n\u001b[0;32m----> 1\u001b[0;31m \u001b[0merr_tr\u001b[0m\u001b[0;34m,\u001b[0m \u001b[0merr_te\u001b[0m\u001b[0;34m,\u001b[0m \u001b[0mgams\u001b[0m\u001b[0;34m,\u001b[0m \u001b[0mv_ts\u001b[0m\u001b[0;34m,\u001b[0m \u001b[0md_ts\u001b[0m \u001b[0;34m=\u001b[0m \u001b[0mmodel\u001b[0m\u001b[0;34m.\u001b[0m\u001b[0mrun_factorized\u001b[0m\u001b[0;34m(\u001b[0m\u001b[0mT\u001b[0m\u001b[0;34m,\u001b[0m \u001b[0mweak_clf\u001b[0m\u001b[0;34m,\u001b[0m \u001b[0;34m'bal'\u001b[0m\u001b[0;34m,\u001b[0m \u001b[0mverbose\u001b[0m\u001b[0;34m)\u001b[0m\u001b[0;34m\u001b[0m\u001b[0m\n\u001b[0m",
      "\u001b[0;32m~/Desktop/COS 511/Project/code/models/adaboost_mh.py\u001b[0m in \u001b[0;36mrun_factorized\u001b[0;34m(self, T, weak_learner, W_init, verbose)\u001b[0m\n\u001b[1;32m    252\u001b[0m                 \u001b[0mprint\u001b[0m\u001b[0;34m(\u001b[0m\u001b[0;34m\"Round {}\"\u001b[0m\u001b[0;34m.\u001b[0m\u001b[0mformat\u001b[0m\u001b[0;34m(\u001b[0m\u001b[0mt\u001b[0m \u001b[0;34m+\u001b[0m \u001b[0;36m1\u001b[0m\u001b[0;34m)\u001b[0m\u001b[0;34m,\u001b[0m \u001b[0mflush\u001b[0m\u001b[0;34m=\u001b[0m\u001b[0;32mTrue\u001b[0m\u001b[0;34m)\u001b[0m\u001b[0;34m\u001b[0m\u001b[0m\n\u001b[1;32m    253\u001b[0m             \u001b[0;31m# Fit weak learner to data\u001b[0m\u001b[0;34m\u001b[0m\u001b[0;34m\u001b[0m\u001b[0m\n\u001b[0;32m--> 254\u001b[0;31m             \u001b[0malpha_t\u001b[0m\u001b[0;34m,\u001b[0m \u001b[0menergy_t\u001b[0m\u001b[0;34m,\u001b[0m \u001b[0mv\u001b[0m\u001b[0;34m,\u001b[0m \u001b[0mphi\u001b[0m\u001b[0;34m,\u001b[0m \u001b[0mgamma_t\u001b[0m\u001b[0;34m,\u001b[0m \u001b[0mb\u001b[0m\u001b[0;34m,\u001b[0m \u001b[0mj\u001b[0m \u001b[0;34m=\u001b[0m \u001b[0mweak_learner\u001b[0m\u001b[0;34m(\u001b[0m\u001b[0mX_train\u001b[0m\u001b[0;34m,\u001b[0m \u001b[0mY_train\u001b[0m\u001b[0;34m,\u001b[0m \u001b[0mD_t\u001b[0m\u001b[0;34m)\u001b[0m\u001b[0;34m\u001b[0m\u001b[0m\n\u001b[0m\u001b[1;32m    255\u001b[0m             \u001b[0mv_ts\u001b[0m\u001b[0;34m.\u001b[0m\u001b[0mappend\u001b[0m\u001b[0;34m(\u001b[0m\u001b[0mv\u001b[0m\u001b[0;34m)\u001b[0m\u001b[0;34m\u001b[0m\u001b[0m\n\u001b[1;32m    256\u001b[0m             \u001b[0;32massert\u001b[0m \u001b[0;34m(\u001b[0m\u001b[0misinstance\u001b[0m\u001b[0;34m(\u001b[0m\u001b[0mv\u001b[0m\u001b[0;34m,\u001b[0m \u001b[0mnp\u001b[0m\u001b[0;34m.\u001b[0m\u001b[0mndarray\u001b[0m\u001b[0;34m)\u001b[0m\u001b[0;34m)\u001b[0m\u001b[0;34m,\u001b[0m \u001b[0;34m\"Make v a numpy array.\"\u001b[0m\u001b[0;34m\u001b[0m\u001b[0m\n",
      "\u001b[0;32m~/Desktop/COS 511/Project/code/models/weak_learner.py\u001b[0m in \u001b[0;36mstump_base\u001b[0;34m(X, Y, W)\u001b[0m\n\u001b[1;32m    103\u001b[0m             \u001b[0mZ_best\u001b[0m \u001b[0;34m=\u001b[0m \u001b[0mZ\u001b[0m\u001b[0;34m\u001b[0m\u001b[0m\n\u001b[1;32m    104\u001b[0m             \u001b[0mj_best\u001b[0m \u001b[0;34m=\u001b[0m \u001b[0mj\u001b[0m\u001b[0;34m\u001b[0m\u001b[0m\n\u001b[0;32m--> 105\u001b[0;31m     \u001b[0;32mreturn\u001b[0m \u001b[0;34m(\u001b[0m\u001b[0malpha_best\u001b[0m\u001b[0;34m,\u001b[0m \u001b[0mZ_best\u001b[0m\u001b[0;34m,\u001b[0m \u001b[0mv_best\u001b[0m\u001b[0;34m,\u001b[0m \u001b[0mphi_best\u001b[0m\u001b[0;34m,\u001b[0m \u001b[0mgamma_best\u001b[0m\u001b[0;34m,\u001b[0m \u001b[0mb_best\u001b[0m\u001b[0;34m,\u001b[0m \u001b[0mj_best\u001b[0m\u001b[0;34m)\u001b[0m\u001b[0;34m\u001b[0m\u001b[0m\n\u001b[0m\u001b[1;32m    106\u001b[0m \u001b[0;34m\u001b[0m\u001b[0m\n\u001b[1;32m    107\u001b[0m \u001b[0;31m# This is the helper function for stump_base\u001b[0m\u001b[0;34m\u001b[0m\u001b[0;34m\u001b[0m\u001b[0m\n",
      "\u001b[0;31mUnboundLocalError\u001b[0m: local variable 'alpha_best' referenced before assignment"
     ]
    }
   ],
   "source": [
    "err_tr, err_te, gams, v_ts, d_ts = model.run_factorized(T, weak_clf, 'unif', verbose)"
   ]
  },
  {
   "cell_type": "markdown",
   "metadata": {},
   "source": [
    "## Plot Pseudo Weights"
   ]
  },
  {
   "cell_type": "code",
   "execution_count": 11,
   "metadata": {},
   "outputs": [],
   "source": [
    "def calc_pseudo_ws(Wts, vts, Y, T):\n",
    "    w_pseudo_ts = []\n",
    "    for t in range(T):\n",
    "        #W_t = Wts[t + 1] # skip W_0\n",
    "        W_t = Wts[t]\n",
    "        v_t = vts[t]\n",
    "        # Get all the y_i,l * v_l in one matrix\n",
    "        Y_mult_v_t = np.multiply(Y, v_t)\n",
    "        # The above is either 1 or -1, to get an indicator\n",
    "        # about whether their product is +1 or -1 you can \n",
    "        # add one to the whole matrix and all the -1 -> 0,\n",
    "        # or add negative one to the whole matrix and all\n",
    "        # the +1 -> 0. You just need to normalize by \\pm 1/2,\n",
    "        # to get an indicator or a matrix mask.\n",
    "        w_p_mask = ((Y_mult_v_t + 1) * 0.5).astype('int')\n",
    "        w_n_mask = ((Y_mult_v_t - 1) * -0.5).astype('int')\n",
    "        w_p_t = np.sum(np.multiply(W_t, w_p_mask), axis=1)\n",
    "        w_n_t = np.sum(np.multiply(W_t, w_n_mask), axis=1)\n",
    "        w_pseudo_t = np.sum(np.abs(w_p_t - w_n_t))\n",
    "        w_pseudo_ts.append(w_pseudo_t)\n",
    "    return w_pseudo_ts"
   ]
  },
  {
   "cell_type": "code",
   "execution_count": 12,
   "metadata": {},
   "outputs": [
    {
     "ename": "ValueError",
     "evalue": "operands could not be broadcast together with shapes (10,2) (4,) ",
     "output_type": "error",
     "traceback": [
      "\u001b[0;31m---------------------------------------------------------------------------\u001b[0m",
      "\u001b[0;31mValueError\u001b[0m                                Traceback (most recent call last)",
      "\u001b[0;32m<ipython-input-12-c789ea8a8467>\u001b[0m in \u001b[0;36m<module>\u001b[0;34m()\u001b[0m\n\u001b[0;32m----> 1\u001b[0;31m \u001b[0mpseudo_W_ts\u001b[0m \u001b[0;34m=\u001b[0m \u001b[0mcalc_pseudo_ws\u001b[0m\u001b[0;34m(\u001b[0m\u001b[0md_ts\u001b[0m\u001b[0;34m,\u001b[0m \u001b[0mv_ts\u001b[0m\u001b[0;34m,\u001b[0m \u001b[0my_train\u001b[0m\u001b[0;34m,\u001b[0m \u001b[0mT\u001b[0m\u001b[0;34m)\u001b[0m\u001b[0;34m\u001b[0m\u001b[0m\n\u001b[0m",
      "\u001b[0;32m<ipython-input-11-9162decbd70a>\u001b[0m in \u001b[0;36mcalc_pseudo_ws\u001b[0;34m(Wts, vts, Y, T)\u001b[0m\n\u001b[1;32m      6\u001b[0m         \u001b[0mv_t\u001b[0m \u001b[0;34m=\u001b[0m \u001b[0mvts\u001b[0m\u001b[0;34m[\u001b[0m\u001b[0mt\u001b[0m\u001b[0;34m]\u001b[0m\u001b[0;34m\u001b[0m\u001b[0m\n\u001b[1;32m      7\u001b[0m         \u001b[0;31m# Get all the y_i,l * v_l in one matrix\u001b[0m\u001b[0;34m\u001b[0m\u001b[0;34m\u001b[0m\u001b[0m\n\u001b[0;32m----> 8\u001b[0;31m         \u001b[0mY_mult_v_t\u001b[0m \u001b[0;34m=\u001b[0m \u001b[0mnp\u001b[0m\u001b[0;34m.\u001b[0m\u001b[0mmultiply\u001b[0m\u001b[0;34m(\u001b[0m\u001b[0mY\u001b[0m\u001b[0;34m,\u001b[0m \u001b[0mv_t\u001b[0m\u001b[0;34m)\u001b[0m\u001b[0;34m\u001b[0m\u001b[0m\n\u001b[0m\u001b[1;32m      9\u001b[0m         \u001b[0;31m# The above is either 1 or -1, to get an indicator\u001b[0m\u001b[0;34m\u001b[0m\u001b[0;34m\u001b[0m\u001b[0m\n\u001b[1;32m     10\u001b[0m         \u001b[0;31m# about whether their product is +1 or -1 you can\u001b[0m\u001b[0;34m\u001b[0m\u001b[0;34m\u001b[0m\u001b[0m\n",
      "\u001b[0;31mValueError\u001b[0m: operands could not be broadcast together with shapes (10,2) (4,) "
     ]
    }
   ],
   "source": [
    "pseudo_W_ts = calc_pseudo_ws(d_ts, v_ts, y_train, T)"
   ]
  },
  {
   "cell_type": "code",
   "execution_count": 6,
   "metadata": {},
   "outputs": [],
   "source": [
    "# Function for plotting Pseudo weights on same plot for two datasets\n",
    "def make_plot(data_to_plot, T, ylabel, xlabel, title):\n",
    "    ts = np.linspace(1, T, num=T)\n",
    "    plt.plot(ts, data_to_plot) #, label='Pseudo Weights')\n",
    "    #plt.legend(loc='best')\n",
    "    plt.rc('text', usetex=True)\n",
    "    plt.rc('font', family='serif')\n",
    "    plt.xlabel(xlabel, fontsize=22)\n",
    "    plt.ylabel(ylabel, rotation=0, fontsize=22, labelpad=20)\n",
    "    plt.title(title, fontsize=22)\n",
    "    axes = plt.gca()\n",
    "    axes.set_ylim([0,1.1])"
   ]
  },
  {
   "cell_type": "code",
   "execution_count": 7,
   "metadata": {},
   "outputs": [
    {
     "data": {
      "image/png": "[encoded data removed]",
      "text/plain": [
       "<Figure size 432x288 with 1 Axes>"
      ]
     },
     "metadata": {
      "needs_background": "light"
     },
     "output_type": "display_data"
    }
   ],
   "source": [
    "make_plot(pseudo_W_ts, T, r\"$w'_\\Sigma$\", \"Number of Iterations\", r\"$w'_\\Sigma$ on Pendigits Dataset\")"
   ]
  },
  {
   "cell_type": "code",
   "execution_count": 10,
   "metadata": {},
   "outputs": [
    {
     "data": {
      "text/plain": [
       "0.32206563234823093"
      ]
     },
     "execution_count": 10,
     "metadata": {},
     "output_type": "execute_result"
    }
   ],
   "source": [
    "np.min(pseudo_W_ts)"
   ]
  },
  {
   "cell_type": "code",
   "execution_count": 11,
   "metadata": {},
   "outputs": [
    {
     "data": {
      "text/plain": [
       "3"
      ]
     },
     "execution_count": 11,
     "metadata": {},
     "output_type": "execute_result"
    }
   ],
   "source": [
    "np.argmin(pseudo_W_ts)"
   ]
  },
  {
   "cell_type": "code",
   "execution_count": 12,
   "metadata": {},
   "outputs": [
    {
     "data": {
      "text/plain": [
       "0.8"
      ]
     },
     "execution_count": 12,
     "metadata": {},
     "output_type": "execute_result"
    }
   ],
   "source": [
    "pseudo_W_ts[0]"
   ]
  },
  {
   "cell_type": "markdown",
   "metadata": {},
   "source": [
    "## Plot Gammas"
   ]
  },
  {
   "cell_type": "code",
   "execution_count": 13,
   "metadata": {},
   "outputs": [
    {
     "data": {
      "image/png": "[encoded data removed]",
      "text/plain": [
       "<Figure size 432x288 with 1 Axes>"
      ]
     },
     "metadata": {
      "needs_background": "light"
     },
     "output_type": "display_data"
    }
   ],
   "source": [
    "make_plot(gams, T, \"Edge\", \"T\", \"Results\")"
   ]
  },
  {
   "cell_type": "code",
   "execution_count": 14,
   "metadata": {},
   "outputs": [
    {
     "data": {
      "text/plain": [
       "0.060188779842337455"
      ]
     },
     "execution_count": 14,
     "metadata": {},
     "output_type": "execute_result"
    }
   ],
   "source": [
    "np.min(gams)"
   ]
  },
  {
   "cell_type": "code",
   "execution_count": null,
   "metadata": {},
   "outputs": [],
   "source": []
  }
 ],
 "metadata": {
  "kernelspec": {
   "display_name": "Python 3",
   "language": "python",
   "name": "python3"
  },
  "language_info": {
   "codemirror_mode": {
    "name": "ipython",
    "version": 3
   },
   "file_extension": ".py",
   "mimetype": "text/x-python",
   "name": "python",
   "nbconvert_exporter": "python",
   "pygments_lexer": "ipython3",
   "version": "3.7.0"
  }
 },
 "nbformat": 4,
 "nbformat_minor": 2
}
