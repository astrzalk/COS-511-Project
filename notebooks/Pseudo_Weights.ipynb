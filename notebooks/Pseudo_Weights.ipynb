{
 "cells": [
  {
   "cell_type": "code",
   "execution_count": 1,
   "metadata": {},
   "outputs": [],
   "source": [
    "%matplotlib inline\n",
    "\n",
    "import sys\n",
    "sys.path.append(\"..\") # This allows for importing from other directories above\n",
    "# Our imports\n",
    "from models.adaboost_mh import AdaBoostMH\n",
    "from models.weak_learner import stump_base as weak_clf\n",
    "# Standard Imports\n",
    "import numpy as np\n",
    "import matplotlib.pyplot as plt\n",
    "\n",
    "\n",
    "# Load the data\n",
    "switch = 0\n",
    "if switch == 0:\n",
    "    X_train = np.load('../data/pendigits/train_data.npy')\n",
    "    y_train = np.load('../data/pendigits/train_labels.npy')\n",
    "    X_test = np.load('../data/pendigits/test_data.npy')\n",
    "    y_test = np.load('../data/pendigits/test_labels.npy')\n",
    "    k = 10\n",
    "elif switch == 1:\n",
    "    X_train = np.load('../data/synth/single/ten/train_data.npy')\n",
    "    y_train = np.load('../data/synth/single/ten/train_labels.npy')\n",
    "    X_test = np.load('../data/synth/single/ten/test_data.npy')\n",
    "    y_test = np.load('../data/synth/single/ten/test_labels.npy')\n",
    "    k = 10\n",
    "elif switch == 2:\n",
    "    X_train = np.load('../data/synth/single/two/train_data.npy')\n",
    "    y_train = np.load('../data/synth/single/two/train_labels.npy')\n",
    "    X_test = np.load('../data/synth/single/two/test_data.npy')\n",
    "    y_test = np.load('../data/synth/single/two/test_labels.npy')\n",
    "    k = 2\n",
    "elif switch == 3:\n",
    "    X_train = np.load('../data/synth/single/three/train_data.npy')\n",
    "    y_train = np.load('../data/synth/single/three/train_labels.npy')\n",
    "    X_test = np.load('../data/synth/single/three/test_data.npy')\n",
    "    y_test = np.load('../data/synth/single/three/test_labels.npy')\n",
    "    k = 3\n",
    "elif switch == 4:\n",
    "    X_train = np.load('../data/synth/single/four/train_data.npy')\n",
    "    y_train = np.load('../data/synth/single/four/train_labels.npy')\n",
    "    X_test = np.load('../data/synth/single/four/test_data.npy')\n",
    "    y_test = np.load('../data/synth/single/four/test_labels.npy')\n",
    "    k = 4\n",
    "elif switch == 5:\n",
    "    X_train = np.load('../data/synth/single/half/train_data.npy')\n",
    "    y_train = np.load('../data/synth/single/half/train_labels.npy')\n",
    "    X_test = np.load('../data/synth/single/half/test_data.npy')\n",
    "    y_test = np.load('../data/synth/single/half/test_labels.npy')\n",
    "    k = 2\n",
    "elif switch == 6:\n",
    "    X_train = np.load('../data/synth/multi/incr/train_data.npy')\n",
    "    y_train = np.load('../data/synth/multi/incr/train_labels.npy')\n",
    "    X_test = np.load('../data/synth/multi/incr/test_data.npy')\n",
    "    y_test = np.load('../data/synth/multi/incr/test_labels.npy')\n",
    "    k = 4\n",
    "else:\n",
    "    X_train = np.load('../data/synth/multi/alt/train_data.npy')\n",
    "    y_train = np.load('../data/synth/multi/alt/train_labels.npy')\n",
    "    X_test = np.load('../data/synth/multi/alt/test_data.npy')\n",
    "    y_test = np.load('../data/synth/multi/alt/test_labels.npy')\n",
    "    k = 4\n",
    "    \n",
    "#y_train = y_train[0:15]\n",
    "#X_train = X_train[0:15]\n",
    "\n",
    "#y_train = np.concatenate((y_train, y_train), axis=0)\n",
    "#y_train = np.concatenate((y_train, y_train), axis=0)\n",
    "#y_train = np.concatenate((y_train, y_train), axis=0)\n",
    "#y_train = np.concatenate((y_train, y_train), axis=0)\n",
    "#n = y_train.shape[0]\n",
    "#print(n)\n",
    "#X_train = np.atleast_2d(np.array(list(range(0,n)))).T\n",
    "\n",
    "\n",
    "# Initialize model \n",
    "model = AdaBoostMH(X_train, y_train, X_test, y_test, 0.8)"
   ]
  },
  {
   "cell_type": "code",
   "execution_count": 2,
   "metadata": {},
   "outputs": [],
   "source": [
    "#X_train = np.array([0,1,2,3,4,5,6,7,8,9,10,11,12,13,14,15,16,17,18,19])\n",
    "#X_train = np.atleast_2d(X_train).T\n",
    "#y_train = np.array([0,1,2,3,4,5,6,7,8,9,10,11,12,13,14,15,16,17,18,19])\n",
    "#X_test = X_train\n",
    "#y_test = y_train\n",
    "#k = 20\n",
    "#model = AdaBoostMH(X_train, y_train, X_test, y_test, 0.8)"
   ]
  },
  {
   "cell_type": "code",
   "execution_count": 3,
   "metadata": {},
   "outputs": [],
   "source": [
    "T = 300\n",
    "verbose = 0"
   ]
  },
  {
   "cell_type": "code",
   "execution_count": 4,
   "metadata": {},
   "outputs": [],
   "source": [
    "err_tr, err_te, gams, v_ts, d_ts = model.run_factorized(T, weak_clf, 'unif', verbose)"
   ]
  },
  {
   "cell_type": "markdown",
   "metadata": {},
   "source": [
    "## Plot Pseudo Weights"
   ]
  },
  {
   "cell_type": "code",
   "execution_count": 5,
   "metadata": {},
   "outputs": [],
   "source": [
    "def calc_pseudo_ws(Wts, vts, Y, T):\n",
    "    w_pseudo_ts = []\n",
    "    for t in range(T):\n",
    "        #W_t = Wts[t + 1] # skip W_0\n",
    "        W_t = Wts[t]\n",
    "        v_t = vts[t]\n",
    "        # Get all the y_i,l * v_l in one matrix\n",
    "        Y_mult_v_t = np.multiply(Y, v_t)\n",
    "        # The above is either 1 or -1, to get an indicator\n",
    "        # about whether their product is +1 or -1 you can \n",
    "        # add one to the whole matrix and all the -1 -> 0,\n",
    "        # or add negative one to the whole matrix and all\n",
    "        # the +1 -> 0. You just need to normalize by \\pm 1/2,\n",
    "        # to get an indicator or a matrix mask.\n",
    "        w_p_mask = ((Y_mult_v_t + 1) * 0.5).astype('int')\n",
    "        w_n_mask = ((Y_mult_v_t - 1) * -0.5).astype('int')\n",
    "        w_p_t = np.sum(np.multiply(W_t, w_p_mask), axis=1)\n",
    "        w_n_t = np.sum(np.multiply(W_t, w_n_mask), axis=1)\n",
    "        w_pseudo_t = np.sum(np.abs(w_p_t - w_n_t))\n",
    "        w_pseudo_ts.append(w_pseudo_t)\n",
    "    return w_pseudo_ts"
   ]
  },
  {
   "cell_type": "code",
   "execution_count": 6,
   "metadata": {},
   "outputs": [],
   "source": [
    "pseudo_W_ts = calc_pseudo_ws(d_ts, v_ts, y_train, T)"
   ]
  },
  {
   "cell_type": "code",
   "execution_count": 7,
   "metadata": {},
   "outputs": [],
   "source": [
    "# Function for plotting Pseudo weights on same plot for two datasets\n",
    "def make_plot(data_to_plot, T, ylabel, xlabel, title):\n",
    "    ts = np.linspace(1, T, num=T)\n",
    "    plt.plot(ts, data_to_plot) #, label='Pseudo Weights')\n",
    "    #plt.legend(loc='best')\n",
    "    plt.rc('text', usetex=True)\n",
    "    plt.rc('font', family='serif')\n",
    "    plt.xlabel(xlabel, fontsize=22)\n",
    "    plt.ylabel(ylabel, rotation=0, fontsize=22, labelpad=20)\n",
    "    plt.title(title, fontsize=22)\n",
    "    axes = plt.gca()\n",
    "    axes.set_ylim([0,1.1])"
   ]
  },
  {
   "cell_type": "code",
   "execution_count": 15,
   "metadata": {},
   "outputs": [
    {
     "data": {
      "image/png": "[encoded data removed]",
      "text/plain": [
       "<Figure size 432x288 with 1 Axes>"
      ]
     },
     "metadata": {
      "needs_background": "light"
     },
     "output_type": "display_data"
    }
   ],
   "source": [
    "make_plot(pseudo_W_ts, T, r\"$w'_\\Sigma$\", \"Number of Iterations\", r\"$w'_\\Sigma$ on Pendigits Dataset\")"
   ]
  },
  {
   "cell_type": "code",
   "execution_count": 10,
   "metadata": {},
   "outputs": [
    {
     "data": {
      "text/plain": [
       "0.32206563234823093"
      ]
     },
     "execution_count": 10,
     "metadata": {},
     "output_type": "execute_result"
    }
   ],
   "source": [
    "np.min(pseudo_W_ts)"
   ]
  },
  {
   "cell_type": "code",
   "execution_count": 11,
   "metadata": {},
   "outputs": [
    {
     "data": {
      "text/plain": [
       "3"
      ]
     },
     "execution_count": 11,
     "metadata": {},
     "output_type": "execute_result"
    }
   ],
   "source": [
    "np.argmin(pseudo_W_ts)"
   ]
  },
  {
   "cell_type": "code",
   "execution_count": 12,
   "metadata": {},
   "outputs": [
    {
     "data": {
      "text/plain": [
       "0.8"
      ]
     },
     "execution_count": 12,
     "metadata": {},
     "output_type": "execute_result"
    }
   ],
   "source": [
    "pseudo_W_ts[0]"
   ]
  },
  {
   "cell_type": "markdown",
   "metadata": {},
   "source": [
    "## Plot Gammas"
   ]
  },
  {
   "cell_type": "code",
   "execution_count": 13,
   "metadata": {},
   "outputs": [
    {
     "data": {
      "image/png": "[encoded data removed]",
      "text/plain": [
       "<Figure size 432x288 with 1 Axes>"
      ]
     },
     "metadata": {
      "needs_background": "light"
     },
     "output_type": "display_data"
    }
   ],
   "source": [
    "make_plot(gams, T, \"Edge\", \"T\", \"Results\")"
   ]
  },
  {
   "cell_type": "code",
   "execution_count": 14,
   "metadata": {},
   "outputs": [
    {
     "data": {
      "text/plain": [
       "0.060188779842337455"
      ]
     },
     "execution_count": 14,
     "metadata": {},
     "output_type": "execute_result"
    }
   ],
   "source": [
    "np.min(gams)"
   ]
  },
  {
   "cell_type": "code",
   "execution_count": null,
   "metadata": {},
   "outputs": [],
   "source": []
  }
 ],
 "metadata": {
  "kernelspec": {
   "display_name": "Python 3",
   "language": "python",
   "name": "python3"
  },
  "language_info": {
   "codemirror_mode": {
    "name": "ipython",
    "version": 3
   },
   "file_extension": ".py",
   "mimetype": "text/x-python",
   "name": "python",
   "nbconvert_exporter": "python",
   "pygments_lexer": "ipython3",
   "version": "3.6.8"
  }
 },
 "nbformat": 4,
 "nbformat_minor": 2
}
