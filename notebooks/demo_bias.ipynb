{
 "cells": [
  {
   "cell_type": "code",
   "execution_count": 1,
   "metadata": {},
   "outputs": [],
   "source": [
    "%matplotlib inline\n",
    "\n",
    "import sys\n",
    "sys.path.append(\"..\") # This allows for importing from other directories above\n",
    "# Our imports\n",
    "from models.adaboost_mh import AdaBoostMH\n",
    "from models.weak_learner import stump_base as weak_clf\n",
    "# Standard Imports\n",
    "import numpy as np\n",
    "import matplotlib.pyplot as plt\n",
    "\n",
    "\n",
    "# Load the data\n",
    "X_train = np.array([[1, 0, 2], [5, 6, 4], [2, 10, 7], [3,3,3]])\n",
    "y_train = np.array([1, 0, 1, 1])\n",
    "\n",
    "X_test = np.random.rand(4, 3)\n",
    "y_test = np.array([1, 1, 1, 0])\n",
    "\n",
    "# Initialize model \n",
    "dummy_model = AdaBoostMH(X_train, y_train, X_test, y_test, [0.1, 0.9])"
   ]
  },
  {
   "cell_type": "code",
   "execution_count": 2,
   "metadata": {},
   "outputs": [
    {
     "data": {
      "text/plain": [
       "array([[0.025, 0.225],\n",
       "       [0.025, 0.225],\n",
       "       [0.025, 0.225],\n",
       "       [0.025, 0.225]])"
      ]
     },
     "execution_count": 2,
     "metadata": {},
     "output_type": "execute_result"
    }
   ],
   "source": [
    "# Only works in binary case, i.e. k = 2. \n",
    "bias = [0.1, 0.9]\n",
    "dummy_model._get_init_distr('asym', False, True, bias)"
   ]
  },
  {
   "cell_type": "code",
   "execution_count": null,
   "metadata": {},
   "outputs": [
    {
     "name": "stdout",
     "output_type": "stream",
     "text": [
      "> /Users/alexanderstrzalkowski/Desktop/COS 511/Project/code/models/weak_learner.py(59)get_alpha_and_energy()\n",
      "-> delta = 1 / (N * 0.01)\n",
      "(Pdb) n\n",
      "> /Users/alexanderstrzalkowski/Desktop/COS 511/Project/code/models/weak_learner.py(60)get_alpha_and_energy()\n",
      "-> eps_pls = 1 + gamma\n",
      "(Pdb) delta\n",
      "25.0\n",
      "(Pdb) N\n",
      "4\n",
      "(Pdb) n\n",
      "> /Users/alexanderstrzalkowski/Desktop/COS 511/Project/code/models/weak_learner.py(61)get_alpha_and_energy()\n",
      "-> eps_min = 1 - gamma\n",
      "(Pdb) n\n",
      "> /Users/alexanderstrzalkowski/Desktop/COS 511/Project/code/models/weak_learner.py(62)get_alpha_and_energy()\n",
      "-> alpha = 0.5 * np.log((eps_pls + delta) / (eps_min + delta))\n",
      "(Pdb) gamma\n",
      "1.0\n",
      "(Pdb) eps_min\n",
      "0.0\n",
      "(Pdb) eps_pls\n",
      "2.0\n",
      "(Pdb) eps_min + delta\n",
      "25.0\n",
      "(Pdb) eps_pls + delta\n",
      "27.0\n",
      "(Pdb) 27 / 25\n",
      "1.08\n",
      "(Pdb) np.log(1.08)\n",
      "0.0769610411361284\n",
      "(Pdb) n\n",
      "> /Users/alexanderstrzalkowski/Desktop/COS 511/Project/code/models/weak_learner.py(63)get_alpha_and_energy()\n",
      "-> Z = 2 * np.sqrt(eps_min * eps_pls) + (1 - eps_min - eps_pls)\n",
      "(Pdb) 1 - eps_min - eps_pls\n",
      "-1.0\n"
     ]
    }
   ],
   "source": [
    "T = 10\n",
    "dummy_model.run_factorized(T, weak_clf, 'asym')"
   ]
  },
  {
   "cell_type": "code",
   "execution_count": null,
   "metadata": {},
   "outputs": [],
   "source": []
  }
 ],
 "metadata": {
  "kernelspec": {
   "display_name": "Python 3",
   "language": "python",
   "name": "python3"
  },
  "language_info": {
   "codemirror_mode": {
    "name": "ipython",
    "version": 3
   },
   "file_extension": ".py",
   "mimetype": "text/x-python",
   "name": "python",
   "nbconvert_exporter": "python",
   "pygments_lexer": "ipython3",
   "version": "3.7.0"
  }
 },
 "nbformat": 4,
 "nbformat_minor": 2
}
