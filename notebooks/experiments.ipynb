{
 "cells": [
  {
   "cell_type": "code",
   "execution_count": null,
   "metadata": {},
   "outputs": [],
   "source": [
    "%matplotlib inline\n",
    "\n",
    "import sys\n",
    "sys.path.append(\"..\") # This allows for importing from other directories above\n",
    "import numpy as np\n",
    "\n",
    "from models.adaboost_mh import AdaBoostMH\n",
    "from sklearn.tree import DecisionTreeClassifier\n",
    "import matplotlib.pyplot as plt\n",
    "\n",
    "# Load the data\n",
    "X_train = np.load('../data/pendigits_train_data.npy')\n",
    "y_train = np.load('../data/pendigits_train_labels.npy')\n",
    "X_test = np.load('../data/pendigits_test_data.npy')\n",
    "y_test = np.load('../data/pendigits_test_labels.npy')"
   ]
  },
  {
   "cell_type": "code",
   "execution_count": null,
   "metadata": {},
   "outputs": [],
   "source": [
    "# Test out schapire implementation\n",
    "T = 10\n",
    "clf_tree = DecisionTreeClassifier(max_depth=1, random_state=1)\n",
    "W_init = True\n",
    "verbose = False\n",
    "model1 = AdaBoostMH(X_train, y_train, X_test, y_test)\n",
    "# tr_err_s, te_err_s, gammas_s, D_ts_s = model1.run_schapire(T, clf_tree, W_init, verbose)\n",
    "# tr_err_k, te_err_k, gammas_k, D_ts_k = model1.run_kegl(T, clf_tree, W_init, verbose)"
   ]
  },
  {
   "cell_type": "code",
   "execution_count": null,
   "metadata": {},
   "outputs": [],
   "source": [
    "# Get all errors for plotting\n",
    "def get_error_for_T_rounds(model, T, W_init, model_type):\n",
    "    clf_tree = DecisionTreeClassifier(max_depth=1, random_state=1)\n",
    "    if model_type == 'S':\n",
    "        err_tr = [model.run_schapire(T, clf_tree, W_init, False)[0] for t in range(T)]\n",
    "        err_te = [model.run_schapire(T, clf_tree, W_init, False)[1] for t in range(T)]\n",
    "    elif model_type == 'K':\n",
    "        err_tr = [model.run_kegl(T, clf_tree, W_init, False)[0] for t in range(T)]\n",
    "        err_te = [model.run_kegl(T, clf_tree, W_init, False)[1] for t in range(T)]\n",
    "    elif model_type == 'F':\n",
    "        err_tr = [model.run_factorized(T, clf_tree, W_init, False)[0] for t in range(T)]\n",
    "        err_te = [model.run_factorized(T, clf_tree, W_init, False)[1] for t in range(T)]\n",
    "    return (err_tr, err_te)"
   ]
  },
  {
   "cell_type": "code",
   "execution_count": null,
   "metadata": {},
   "outputs": [],
   "source": [
    "def plot_error(err_tr, err_te, title):\n",
    "    T = len(err_tr)\n",
    "    ts = np.linspace(1, T, num=T)\n",
    "    plt.plot(ts, err_tr, label='Training Error')\n",
    "    plt.plot(ts, err_te, label='Testing Error')\n",
    "    plt.legend(loc='best')\n",
    "    plt.xlabel(\"T\")\n",
    "    plt.title(title)"
   ]
  },
  {
   "cell_type": "code",
   "execution_count": null,
   "metadata": {},
   "outputs": [],
   "source": [
    "err_tr_S, err_te_S = get_error_for_T_rounds(model1, T, True, 'S')"
   ]
  },
  {
   "cell_type": "code",
   "execution_count": null,
   "metadata": {},
   "outputs": [],
   "source": [
    "# Plot Training and Testing Error for Schapire's implementation\n",
    "plot_error(err_tr_S, err_te_S, 'Schapires Implementation')"
   ]
  },
  {
   "cell_type": "code",
   "execution_count": null,
   "metadata": {},
   "outputs": [],
   "source": [
    "err_tr_K, err_te_K = get_error_for_T_rounds(model1, T, True, 'K')"
   ]
  },
  {
   "cell_type": "code",
   "execution_count": null,
   "metadata": {},
   "outputs": [],
   "source": [
    "# Plot Training and Testing Error for Kegl's implementation\n",
    "plot_error(err_tr_K, err_te_K, 'Kegls Implementation')"
   ]
  },
  {
   "cell_type": "code",
   "execution_count": null,
   "metadata": {},
   "outputs": [],
   "source": []
  }
 ],
 "metadata": {
  "kernelspec": {
   "display_name": "Python 3",
   "language": "python",
   "name": "python3"
  },
  "language_info": {
   "codemirror_mode": {
    "name": "ipython",
    "version": 3
   },
   "file_extension": ".py",
   "mimetype": "text/x-python",
   "name": "python",
   "nbconvert_exporter": "python",
   "pygments_lexer": "ipython3",
   "version": "3.7.0"
  }
 },
 "nbformat": 4,
 "nbformat_minor": 2
}
