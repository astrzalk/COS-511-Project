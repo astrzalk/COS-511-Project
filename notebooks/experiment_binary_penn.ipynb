{
 "cells": [
  {
   "cell_type": "code",
   "execution_count": 1,
   "metadata": {},
   "outputs": [],
   "source": [
    "%matplotlib inline\n",
    "\n",
    "import sys\n",
    "sys.path.append(\"..\") # This allows for importing from other directories above\n",
    "# Our imports\n",
    "from models.adaboost_mh import AdaBoostMH\n",
    "from models.weak_learner import stump_base as weak_clf\n",
    "# Standard Imports\n",
    "import numpy as np\n",
    "import matplotlib.pyplot as plt\n",
    "\n",
    "\n",
    "# Load the data\n",
    "X_train = np.load('../data/pendigits/pendigits_train_data.npy')\n",
    "y_train = np.load('../data/pendigits/pendigits_train_labels.npy')\n",
    "X_test = np.load('../data/pendigits/pendigits_test_data.npy')\n",
    "y_test = np.load('../data/pendigits/pendigits_test_labels.npy')\n",
    "\n",
    "# Binarize y_train and y_test\n",
    "# If label > 5, label = 1; o/w label = 0\n",
    "upper, lower = 1, 0\n",
    "y_train_bin = np.where(y_train > 5, upper, lower)\n",
    "y_test_bin = np.where(y_test > 5, upper, lower)\n",
    "\n",
    "# Initialize model \n",
    "model = AdaBoostMH(X_train, y_train_bin, X_test, y_test_bin)"
   ]
  },
  {
   "cell_type": "code",
   "execution_count": 2,
   "metadata": {},
   "outputs": [],
   "source": [
    "def get_a_and_Z(eps_min, eps_pls):\n",
    "    delta = 1 / (0.01 * 7494)\n",
    "    a = 0.5 * np.log((eps_pls) / (eps_min))\n",
    "    Z = 2 * np.sqrt(eps_min * eps_pls) + (1 - eps_min - eps_pls)\n",
    "    \n",
    "    return (a, Z)"
   ]
  },
  {
   "cell_type": "code",
   "execution_count": 3,
   "metadata": {},
   "outputs": [],
   "source": [
    "delta = 1 / (0.01 * 7494)"
   ]
  },
  {
   "cell_type": "code",
   "execution_count": 4,
   "metadata": {},
   "outputs": [
    {
     "data": {
      "text/plain": [
       "(0.509698177342251, 0.8828207722408893)"
      ]
     },
     "execution_count": 4,
     "metadata": {},
     "output_type": "execute_result"
    }
   ],
   "source": [
    "eps_pls = 0.734855\n",
    "eps_min = 0.265145\n",
    "get_a_and_Z(eps_min, eps_pls)"
   ]
  },
  {
   "cell_type": "code",
   "execution_count": 5,
   "metadata": {},
   "outputs": [
    {
     "name": "stdout",
     "output_type": "stream",
     "text": [
      "Round 1\n",
      "Round 2\n",
      "Round 3\n",
      "Round 4\n",
      "Round 5\n",
      "Round 6\n",
      "Round 7\n",
      "Round 8\n",
      "Round 9\n",
      "Round 10\n",
      "Round 11\n",
      "Round 12\n",
      "Round 13\n",
      "Round 14\n",
      "Round 15\n",
      "Round 16\n",
      "Round 17\n",
      "Round 18\n",
      "Round 19\n",
      "Round 20\n",
      "Round 21\n",
      "Round 22\n",
      "Round 23\n",
      "Round 24\n",
      "Round 25\n",
      "Round 26\n",
      "Round 27\n",
      "Round 28\n",
      "Round 29\n",
      "Round 30\n"
     ]
    }
   ],
   "source": [
    "T = 30\n",
    "verbose = 2\n",
    "err_tr, err_te, gams, d_ts = model.run_factorized(T, weak_clf, 'unif', verbose)"
   ]
  },
  {
   "cell_type": "code",
   "execution_count": 6,
   "metadata": {},
   "outputs": [
    {
     "name": "stdout",
     "output_type": "stream",
     "text": [
      "0.10982119028556178\n"
     ]
    }
   ],
   "source": [
    "print(err_tr)"
   ]
  },
  {
   "cell_type": "code",
   "execution_count": 7,
   "metadata": {},
   "outputs": [
    {
     "name": "stdout",
     "output_type": "stream",
     "text": [
      "0.1515151515151515\n"
     ]
    }
   ],
   "source": [
    "print(err_te)"
   ]
  },
  {
   "cell_type": "code",
   "execution_count": null,
   "metadata": {},
   "outputs": [],
   "source": []
  }
 ],
 "metadata": {
  "kernelspec": {
   "display_name": "Python 3",
   "language": "python",
   "name": "python3"
  },
  "language_info": {
   "codemirror_mode": {
    "name": "ipython",
    "version": 3
   },
   "file_extension": ".py",
   "mimetype": "text/x-python",
   "name": "python",
   "nbconvert_exporter": "python",
   "pygments_lexer": "ipython3",
   "version": "3.7.0"
  }
 },
 "nbformat": 4,
 "nbformat_minor": 2
}
