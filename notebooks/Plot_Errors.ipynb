{
 "cells": [
  {
   "cell_type": "code",
   "execution_count": 1,
   "metadata": {},
   "outputs": [],
   "source": [
    "%matplotlib inline\n",
    "\n",
    "import sys\n",
    "sys.path.append(\"..\") # This allows for importing from other directories above\n",
    "# Our imports\n",
    "from models.adaboost_mh import AdaBoostMH\n",
    "from models.weak_learner import stump_base as weak_clf\n",
    "from models.weak_learner import stump_base_no_vote as weak_clf_vanilla\n",
    "# Standard Imports\n",
    "import numpy as np\n",
    "import matplotlib.pyplot as plt\n",
    "\n",
    "\n",
    "# Load the data\n",
    "switch = 0\n",
    "if switch == 0:\n",
    "    X_train = np.load('../data/pendigits/train_data.npy')\n",
    "    y_train = np.load('../data/pendigits/train_labels.npy')\n",
    "    X_test = np.load('../data/pendigits/test_data.npy')\n",
    "    y_test = np.load('../data/pendigits/test_labels.npy')\n",
    "    k = 10\n",
    "elif switch == 1:\n",
    "    X_train = np.load('../data/synth/single/ten/train_data.npy')\n",
    "    y_train = np.load('../data/synth/single/ten/train_labels.npy')\n",
    "    X_test = np.load('../data/synth/single/ten/test_data.npy')\n",
    "    y_test = np.load('../data/synth/single/ten/test_labels.npy')\n",
    "    k = 10\n",
    "elif switch == 2:\n",
    "    X_train = np.load('../data/synth/single/two/train_data.npy')\n",
    "    y_train = np.load('../data/synth/single/two/train_labels.npy')\n",
    "    X_test = np.load('../data/synth/single/two/test_data.npy')\n",
    "    y_test = np.load('../data/synth/single/two/test_labels.npy')\n",
    "    k = 2\n",
    "elif switch == 3:\n",
    "    X_train = np.load('../data/synth/single/three/train_data.npy')\n",
    "    y_train = np.load('../data/synth/single/three/train_labels.npy')\n",
    "    X_test = np.load('../data/synth/single/three/test_data.npy')\n",
    "    y_test = np.load('../data/synth/single/three/test_labels.npy')\n",
    "    k = 3\n",
    "elif switch == 4:\n",
    "    X_train = np.load('../data/synth/single/four/train_data.npy')\n",
    "    y_train = np.load('../data/synth/single/four/train_labels.npy')\n",
    "    X_test = np.load('../data/synth/single/four/test_data.npy')\n",
    "    y_test = np.load('../data/synth/single/four/test_labels.npy')\n",
    "    k = 4\n",
    "elif switch == 5:\n",
    "    X_train = np.load('../data/synth/single/half/train_data.npy')\n",
    "    y_train = np.load('../data/synth/single/half/train_labels.npy')\n",
    "    X_test = np.load('../data/synth/single/half/test_data.npy')\n",
    "    y_test = np.load('../data/synth/single/half/test_labels.npy')\n",
    "    k = 2\n",
    "elif switch == 6:\n",
    "    X_train = np.load('../data/synth/multi/incr/train_data.npy')\n",
    "    y_train = np.load('../data/synth/multi/incr/train_labels.npy')\n",
    "    X_test = np.load('../data/synth/multi/incr/test_data.npy')\n",
    "    y_test = np.load('../data/synth/multi/incr/test_labels.npy')\n",
    "    k = 4\n",
    "else:\n",
    "    X_train = np.load('../data/synth/multi/alt/train_data.npy')\n",
    "    y_train = np.load('../data/synth/multi/alt/train_labels.npy')\n",
    "    X_test = np.load('../data/synth/multi/alt/test_data.npy')\n",
    "    y_test = np.load('../data/synth/multi/alt/test_labels.npy')\n",
    "    k = 4\n",
    "    \n",
    "    \n",
    "#y_train = y_train[0:50]\n",
    "#X_train = X_train[0:50]\n",
    "\n",
    "# Initialize model \n",
    "model = AdaBoostMH(X_train, y_train, X_test, y_test, 0.99)"
   ]
  },
  {
   "cell_type": "code",
   "execution_count": 2,
   "metadata": {},
   "outputs": [],
   "source": [
    "T = 300\n",
    "verbose = 0"
   ]
  },
  {
   "cell_type": "code",
   "execution_count": 4,
   "metadata": {},
   "outputs": [],
   "source": [
    "factorized_err_tr, factorized_err_te, factorized_gams, v_ts, factorized_d_ts = model.run_factorized(T, weak_clf, 'unif', verbose)"
   ]
  },
  {
   "cell_type": "code",
   "execution_count": 5,
   "metadata": {},
   "outputs": [],
   "source": [
    "vanilla_err_tr, vanilla_err_te, vanilla_gams, vanilla_d_ts = model.run_one_against_all(T, weak_clf_vanilla, 'unif', verbose)"
   ]
  },
  {
   "cell_type": "markdown",
   "metadata": {},
   "source": [
    "## Plot training and test error"
   ]
  },
  {
   "cell_type": "code",
   "execution_count": 6,
   "metadata": {},
   "outputs": [],
   "source": [
    "# Function for plotting Pseudo weights on same plot for two datasets\n",
    "def make_plot(vanilla_data, factorized_data, T, ylabel, xlabel, title):\n",
    "    ts = np.linspace(1, T, num=T)\n",
    "    plt.plot(ts, vanilla_data, label='One-Against-All')\n",
    "    plt.plot(ts, factorized_data, label='Factorized')\n",
    "    plt.legend(loc='best', fontsize=11)\n",
    "    plt.rc('text', usetex=True)\n",
    "    plt.rc('font', family='serif')\n",
    "    plt.xlabel(xlabel, fontsize=22)\n",
    "    plt.ylabel(ylabel, fontsize=22)\n",
    "    plt.title(title, fontsize=22)"
   ]
  },
  {
   "cell_type": "code",
   "execution_count": 9,
   "metadata": {},
   "outputs": [
    {
     "data": {
      "image/png": "[encoded data removed]",
      "text/plain": [
       "<Figure size 432x288 with 1 Axes>"
      ]
     },
     "metadata": {
      "needs_background": "light"
     },
     "output_type": "display_data"
    }
   ],
   "source": [
    "make_plot(vanilla_err_tr, factorized_err_tr, T, \"Training Error\", \"Number of Iterations\", \"Training Error on Pendigits Dataset\")"
   ]
  },
  {
   "cell_type": "code",
   "execution_count": null,
   "metadata": {},
   "outputs": [],
   "source": [
    "make_plot(vanilla_err_te, factorized_err_te, T, \"Test Error\", \"Number of Iterations\", \"Test Error on Pendigits Dataset\")"
   ]
  },
  {
   "cell_type": "code",
   "execution_count": null,
   "metadata": {},
   "outputs": [],
   "source": [
    "make_plot(vanilla_gams, factorized_gams, T, \"Edge\", \"Number of Iterations\", \"Gammmas on Pendigits Dataset\")"
   ]
  },
  {
   "cell_type": "code",
   "execution_count": 8,
   "metadata": {},
   "outputs": [],
   "source": [
    "np.save(\"one_against_all_pen_digits_tr\", vanilla_err_tr)\n",
    "np.save(\"one_against_all_pen_digits_te\", vanilla_err_te)\n",
    "np.save(\"factorized_pen_digits_tr\", factorized_err_tr)\n",
    "np.save(\"factorized_pen_digits_te\", factorized_err_te)"
   ]
  },
  {
   "cell_type": "code",
   "execution_count": null,
   "metadata": {},
   "outputs": [],
   "source": []
  }
 ],
 "metadata": {
  "kernelspec": {
   "display_name": "Python 3",
   "language": "python",
   "name": "python3"
  },
  "language_info": {
   "codemirror_mode": {
    "name": "ipython",
    "version": 3
   },
   "file_extension": ".py",
   "mimetype": "text/x-python",
   "name": "python",
   "nbconvert_exporter": "python",
   "pygments_lexer": "ipython3",
   "version": "3.7.0"
  }
 },
 "nbformat": 4,
 "nbformat_minor": 2
}
