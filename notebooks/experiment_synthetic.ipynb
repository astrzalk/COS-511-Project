{
 "cells": [
  {
   "cell_type": "code",
   "execution_count": 1,
   "metadata": {},
   "outputs": [],
   "source": [
    "%matplotlib inline\n",
    "\n",
    "import sys\n",
    "sys.path.append(\"..\") # This allows for importing from other directories above\n",
    "# Our imports\n",
    "from models.adaboost_mh import AdaBoostMH\n",
    "from models.weak_learner import stump_base as weak_clf\n",
    "# Standard Imports\n",
    "import numpy as np\n",
    "import matplotlib.pyplot as plt\n",
    "\n",
    "\n",
    "# Load the data\n",
    "switch = 2\n",
    "if switch == 0:\n",
    "    X_train = np.load('../data/pendigits/pendigits_train_data.npy')\n",
    "    y_train = np.load('../data/pendigits/pendigits_train_labels.npy')\n",
    "    X_test = np.load('../data/pendigits/pendigits_test_data.npy')\n",
    "    y_test = np.load('../data/pendigits/pendigits_test_labels.npy')\n",
    "    k = 10\n",
    "elif switch == 1:\n",
    "    X_train = np.load('../data/synth/synth_train_data.npy')\n",
    "    y_train = np.load('../data/synth/synth_train_labels.npy')\n",
    "    X_test = np.load('../data/synth/synth_test_data.npy')\n",
    "    y_test = np.load('../data/synth/synth_test_labels.npy')\n",
    "    k = 10\n",
    "elif switch == 2:\n",
    "    X_train = np.load('../data/synthBinary/synthBinary_train_data.npy')\n",
    "    y_train = np.load('../data/synthBinary/synthBinary_train_labels.npy')\n",
    "    X_test = np.load('../data/synthBinary/synthBinary_test_data.npy')\n",
    "    y_test = np.load('../data/synthBinary/synthBinary_test_labels.npy')\n",
    "    k = 2\n",
    "elif switch == 3:\n",
    "    X_train = np.load('../data/synthTernary/synthTernary_train_data.npy')\n",
    "    y_train = np.load('../data/synthTernary/synthTernary_train_labels.npy')\n",
    "    X_test = np.load('../data/synthTernary/synthTernary_test_data.npy')\n",
    "    y_test = np.load('../data/synthTernary/synthTernary_test_labels.npy')\n",
    "    k = 3\n",
    "else:\n",
    "    X_train = np.load('../data/synthQuaternary/train_data.npy')\n",
    "    y_train = np.load('../data/synthQuaternary/train_labels.npy')\n",
    "    X_test = np.load('../data/synthQuaternary/test_data.npy')\n",
    "    y_test = np.load('../data/synthQuaternary/test_labels.npy')\n",
    "    k = 4\n",
    "    \n",
    "#y_train = y_train[0:6]\n",
    "#X_train = X_train[0:6]\n",
    "    \n",
    "# Initialize model \n",
    "model = AdaBoostMH(X_train, y_train, X_test, y_test, 0.8)"
   ]
  },
  {
   "cell_type": "code",
   "execution_count": 2,
   "metadata": {},
   "outputs": [
    {
     "data": {
      "text/plain": [
       "array([0, 1, 0, 1, 0, 1, 0, 1, 0, 1, 0, 1, 0, 1, 0, 1, 0, 1, 0, 1, 0, 1,\n",
       "       0, 1, 0, 1, 0, 1, 0, 1, 0, 1, 0, 1, 0, 1, 0, 1, 0, 1])"
      ]
     },
     "execution_count": 2,
     "metadata": {},
     "output_type": "execute_result"
    }
   ],
   "source": [
    "y_train"
   ]
  },
  {
   "cell_type": "code",
   "execution_count": 3,
   "metadata": {},
   "outputs": [
    {
     "data": {
      "text/plain": [
       "array([[ 1],\n",
       "       [ 2],\n",
       "       [ 3],\n",
       "       [ 4],\n",
       "       [ 5],\n",
       "       [ 6],\n",
       "       [ 7],\n",
       "       [ 8],\n",
       "       [ 9],\n",
       "       [10],\n",
       "       [11],\n",
       "       [12],\n",
       "       [13],\n",
       "       [14],\n",
       "       [15],\n",
       "       [16],\n",
       "       [17],\n",
       "       [18],\n",
       "       [19],\n",
       "       [20],\n",
       "       [21],\n",
       "       [22],\n",
       "       [23],\n",
       "       [24],\n",
       "       [25],\n",
       "       [26],\n",
       "       [27],\n",
       "       [28],\n",
       "       [29],\n",
       "       [30],\n",
       "       [31],\n",
       "       [32],\n",
       "       [33],\n",
       "       [34],\n",
       "       [35],\n",
       "       [36],\n",
       "       [37],\n",
       "       [38],\n",
       "       [39],\n",
       "       [40]])"
      ]
     },
     "execution_count": 3,
     "metadata": {},
     "output_type": "execute_result"
    }
   ],
   "source": [
    "X_train"
   ]
  },
  {
   "cell_type": "code",
   "execution_count": 4,
   "metadata": {},
   "outputs": [],
   "source": [
    "T = 5\n",
    "verbose = 2"
   ]
  },
  {
   "cell_type": "code",
   "execution_count": 5,
   "metadata": {},
   "outputs": [
    {
     "name": "stdout",
     "output_type": "stream",
     "text": [
      "Round 1\n",
      "(40, 2)\n",
      "alpha is 0.050041729278491216\n",
      "Edge is 0.05\n",
      "Energy is 0.998749217771909\n",
      "v is [-1.  1.]\n",
      "b is 1.5\n",
      " col is 0\n",
      "Round 2\n",
      "(40, 2)\n",
      "alpha is 0.09552761838135461\n",
      "Edge is 0.09523809523809515\n",
      "Energy is 0.9954545219222319\n",
      "v is [-1.  1.]\n",
      "b is 39.5\n",
      " col is 0\n",
      "Round 3\n",
      "(40, 2)\n",
      "alpha is 0.08717669357238877\n",
      "Edge is 0.08695652173913052\n",
      "Energy is 0.9962121075990956\n",
      "v is [-1.  1.]\n",
      "b is 1.5\n",
      " col is 0\n",
      "Round 4\n",
      "(40, 2)\n",
      "alpha is 0.08017132503758954\n",
      "Edge is 0.07999999999999985\n",
      "Energy is 0.996794863550169\n",
      "v is [-1.  1.]\n",
      "b is 39.5\n",
      " col is 0\n",
      "Round 5\n",
      "(40, 2)\n",
      "alpha is 0.0742100025591367\n",
      "Edge is 0.0740740740740741\n",
      "Energy is 0.9972527420619451\n",
      "v is [-1.  1.]\n",
      "b is 1.5\n",
      " col is 0\n"
     ]
    }
   ],
   "source": [
    "err_tr, err_te, gams, v_ts, d_ts = model.run_factorized(T, weak_clf, 'bal', verbose)"
   ]
  },
  {
   "cell_type": "code",
   "execution_count": 6,
   "metadata": {},
   "outputs": [
    {
     "name": "stdout",
     "output_type": "stream",
     "text": [
      "Round 1\n",
      "(40, 1)\n",
      "(40, 1)\n"
     ]
    },
    {
     "ename": "NameError",
     "evalue": "name 'i' is not defined",
     "output_type": "error",
     "traceback": [
      "\u001b[0;31m---------------------------------------------------------------------------\u001b[0m",
      "\u001b[0;31mNameError\u001b[0m                                 Traceback (most recent call last)",
      "\u001b[0;32m<ipython-input-6-5514fa7a3934>\u001b[0m in \u001b[0;36m<module>\u001b[0;34m\u001b[0m\n\u001b[0;32m----> 1\u001b[0;31m \u001b[0msch_err_tr\u001b[0m\u001b[0;34m,\u001b[0m \u001b[0msch_err_te\u001b[0m\u001b[0;34m,\u001b[0m \u001b[0mgams\u001b[0m\u001b[0;34m,\u001b[0m \u001b[0md_ts\u001b[0m \u001b[0;34m=\u001b[0m \u001b[0mmodel\u001b[0m\u001b[0;34m.\u001b[0m\u001b[0mrun_kegl\u001b[0m\u001b[0;34m(\u001b[0m\u001b[0mT\u001b[0m\u001b[0;34m,\u001b[0m \u001b[0mweak_clf\u001b[0m\u001b[0;34m,\u001b[0m \u001b[0;34m'bal'\u001b[0m\u001b[0;34m,\u001b[0m \u001b[0mverbose\u001b[0m\u001b[0;34m)\u001b[0m\u001b[0;34m\u001b[0m\u001b[0;34m\u001b[0m\u001b[0m\n\u001b[0m",
      "\u001b[0;32m~/COS-511-Project/models/adaboost_mh.py\u001b[0m in \u001b[0;36mrun_kegl\u001b[0;34m(self, T, weak_learner, W_init, verbose)\u001b[0m\n\u001b[1;32m    270\u001b[0m \u001b[0;34m\u001b[0m\u001b[0m\n\u001b[1;32m    271\u001b[0m             \u001b[0;31m# Use weak learner to make predictions on train and test\u001b[0m\u001b[0;34m\u001b[0m\u001b[0;34m\u001b[0m\u001b[0;34m\u001b[0m\u001b[0m\n\u001b[0;32m--> 272\u001b[0;31m             \u001b[0mh_t_tr\u001b[0m \u001b[0;34m=\u001b[0m \u001b[0mnp\u001b[0m\u001b[0;34m.\u001b[0m\u001b[0marray\u001b[0m\u001b[0;34m(\u001b[0m\u001b[0;34m[\u001b[0m\u001b[0malpha_t\u001b[0m \u001b[0;34m*\u001b[0m \u001b[0mh_t\u001b[0m\u001b[0;34m[\u001b[0m\u001b[0ml\u001b[0m\u001b[0;34m]\u001b[0m\u001b[0;34m(\u001b[0m\u001b[0mX_train\u001b[0m\u001b[0;34m[\u001b[0m\u001b[0mi\u001b[0m\u001b[0;34m,\u001b[0m \u001b[0;34m:\u001b[0m\u001b[0;34m]\u001b[0m\u001b[0;34m)\u001b[0m \u001b[0;32mfor\u001b[0m \u001b[0ml\u001b[0m \u001b[0;32min\u001b[0m \u001b[0mrange\u001b[0m\u001b[0;34m(\u001b[0m\u001b[0mself\u001b[0m\u001b[0;34m.\u001b[0m\u001b[0mk\u001b[0m\u001b[0;34m)\u001b[0m\u001b[0;34m]\u001b[0m\u001b[0;34m)\u001b[0m\u001b[0;34m\u001b[0m\u001b[0;34m\u001b[0m\u001b[0m\n\u001b[0m\u001b[1;32m    273\u001b[0m             \u001b[0mh_t_te\u001b[0m \u001b[0;34m=\u001b[0m \u001b[0mnp\u001b[0m\u001b[0;34m.\u001b[0m\u001b[0marray\u001b[0m\u001b[0;34m(\u001b[0m\u001b[0;34m[\u001b[0m\u001b[0malpha_t\u001b[0m \u001b[0;34m*\u001b[0m \u001b[0mh_t\u001b[0m\u001b[0;34m[\u001b[0m\u001b[0ml\u001b[0m\u001b[0;34m]\u001b[0m\u001b[0;34m(\u001b[0m\u001b[0mX_test\u001b[0m\u001b[0;34m[\u001b[0m\u001b[0mi\u001b[0m\u001b[0;34m,\u001b[0m \u001b[0;34m:\u001b[0m\u001b[0;34m]\u001b[0m\u001b[0;34m)\u001b[0m \u001b[0;32mfor\u001b[0m \u001b[0ml\u001b[0m \u001b[0;32min\u001b[0m \u001b[0mrange\u001b[0m\u001b[0;34m(\u001b[0m\u001b[0mself\u001b[0m\u001b[0;34m.\u001b[0m\u001b[0mk\u001b[0m\u001b[0;34m)\u001b[0m\u001b[0;34m]\u001b[0m\u001b[0;34m)\u001b[0m\u001b[0;34m\u001b[0m\u001b[0;34m\u001b[0m\u001b[0m\n\u001b[1;32m    274\u001b[0m             \u001b[0mh_ts_tr\u001b[0m\u001b[0;34m.\u001b[0m\u001b[0mappend\u001b[0m\u001b[0;34m(\u001b[0m\u001b[0mh_t_tr\u001b[0m\u001b[0;34m)\u001b[0m\u001b[0;34m\u001b[0m\u001b[0;34m\u001b[0m\u001b[0m\n",
      "\u001b[0;32m~/COS-511-Project/models/adaboost_mh.py\u001b[0m in \u001b[0;36m<listcomp>\u001b[0;34m(.0)\u001b[0m\n\u001b[1;32m    270\u001b[0m \u001b[0;34m\u001b[0m\u001b[0m\n\u001b[1;32m    271\u001b[0m             \u001b[0;31m# Use weak learner to make predictions on train and test\u001b[0m\u001b[0;34m\u001b[0m\u001b[0;34m\u001b[0m\u001b[0;34m\u001b[0m\u001b[0m\n\u001b[0;32m--> 272\u001b[0;31m             \u001b[0mh_t_tr\u001b[0m \u001b[0;34m=\u001b[0m \u001b[0mnp\u001b[0m\u001b[0;34m.\u001b[0m\u001b[0marray\u001b[0m\u001b[0;34m(\u001b[0m\u001b[0;34m[\u001b[0m\u001b[0malpha_t\u001b[0m \u001b[0;34m*\u001b[0m \u001b[0mh_t\u001b[0m\u001b[0;34m[\u001b[0m\u001b[0ml\u001b[0m\u001b[0;34m]\u001b[0m\u001b[0;34m(\u001b[0m\u001b[0mX_train\u001b[0m\u001b[0;34m[\u001b[0m\u001b[0mi\u001b[0m\u001b[0;34m,\u001b[0m \u001b[0;34m:\u001b[0m\u001b[0;34m]\u001b[0m\u001b[0;34m)\u001b[0m \u001b[0;32mfor\u001b[0m \u001b[0ml\u001b[0m \u001b[0;32min\u001b[0m \u001b[0mrange\u001b[0m\u001b[0;34m(\u001b[0m\u001b[0mself\u001b[0m\u001b[0;34m.\u001b[0m\u001b[0mk\u001b[0m\u001b[0;34m)\u001b[0m\u001b[0;34m]\u001b[0m\u001b[0;34m)\u001b[0m\u001b[0;34m\u001b[0m\u001b[0;34m\u001b[0m\u001b[0m\n\u001b[0m\u001b[1;32m    273\u001b[0m             \u001b[0mh_t_te\u001b[0m \u001b[0;34m=\u001b[0m \u001b[0mnp\u001b[0m\u001b[0;34m.\u001b[0m\u001b[0marray\u001b[0m\u001b[0;34m(\u001b[0m\u001b[0;34m[\u001b[0m\u001b[0malpha_t\u001b[0m \u001b[0;34m*\u001b[0m \u001b[0mh_t\u001b[0m\u001b[0;34m[\u001b[0m\u001b[0ml\u001b[0m\u001b[0;34m]\u001b[0m\u001b[0;34m(\u001b[0m\u001b[0mX_test\u001b[0m\u001b[0;34m[\u001b[0m\u001b[0mi\u001b[0m\u001b[0;34m,\u001b[0m \u001b[0;34m:\u001b[0m\u001b[0;34m]\u001b[0m\u001b[0;34m)\u001b[0m \u001b[0;32mfor\u001b[0m \u001b[0ml\u001b[0m \u001b[0;32min\u001b[0m \u001b[0mrange\u001b[0m\u001b[0;34m(\u001b[0m\u001b[0mself\u001b[0m\u001b[0;34m.\u001b[0m\u001b[0mk\u001b[0m\u001b[0;34m)\u001b[0m\u001b[0;34m]\u001b[0m\u001b[0;34m)\u001b[0m\u001b[0;34m\u001b[0m\u001b[0;34m\u001b[0m\u001b[0m\n\u001b[1;32m    274\u001b[0m             \u001b[0mh_ts_tr\u001b[0m\u001b[0;34m.\u001b[0m\u001b[0mappend\u001b[0m\u001b[0;34m(\u001b[0m\u001b[0mh_t_tr\u001b[0m\u001b[0;34m)\u001b[0m\u001b[0;34m\u001b[0m\u001b[0;34m\u001b[0m\u001b[0m\n",
      "\u001b[0;31mNameError\u001b[0m: name 'i' is not defined"
     ]
    }
   ],
   "source": [
    "sch_err_tr, sch_err_te, gams, d_ts = model.run_kegl(T, weak_clf, 'bal', verbose)"
   ]
  },
  {
   "cell_type": "code",
   "execution_count": 7,
   "metadata": {},
   "outputs": [],
   "source": [
    "X = np.array([[x for x in range(5)] for y in range(3)])"
   ]
  },
  {
   "cell_type": "code",
   "execution_count": 8,
   "metadata": {},
   "outputs": [
    {
     "data": {
      "text/plain": [
       "array([[0, 1, 2, 3, 4],\n",
       "       [0, 1, 2, 3, 4],\n",
       "       [0, 1, 2, 3, 4]])"
      ]
     },
     "execution_count": 8,
     "metadata": {},
     "output_type": "execute_result"
    }
   ],
   "source": [
    "X"
   ]
  },
  {
   "cell_type": "code",
   "execution_count": 18,
   "metadata": {},
   "outputs": [
    {
     "data": {
      "text/plain": [
       "array([[4],\n",
       "       [4],\n",
       "       [4],\n",
       "       [4],\n",
       "       [4]])"
      ]
     },
     "execution_count": 18,
     "metadata": {},
     "output_type": "execute_result"
    }
   ],
   "source": [
    "np.atleast_2d(X[:,3]).T"
   ]
  },
  {
   "cell_type": "code",
   "execution_count": null,
   "metadata": {},
   "outputs": [],
   "source": [
    "print(err_tr)"
   ]
  },
  {
   "cell_type": "code",
   "execution_count": null,
   "metadata": {},
   "outputs": [],
   "source": [
    "print(err_te)"
   ]
  },
  {
   "cell_type": "code",
   "execution_count": null,
   "metadata": {},
   "outputs": [],
   "source": [
    "len(d_ts)"
   ]
  },
  {
   "cell_type": "markdown",
   "metadata": {},
   "source": [
    "## Plot Pseudo Weights"
   ]
  },
  {
   "cell_type": "code",
   "execution_count": null,
   "metadata": {},
   "outputs": [],
   "source": [
    "# One hot encode \n",
    "def one_hot_labels(y,k):\n",
    "    \"\"\"\n",
    "    y: N by 1 numpy-array corresponding to the labels.\n",
    "    k: float, corresponding to number of unique classes.\n",
    "    returns: Y, an N by k numpy-array with each row containing\n",
    "             a 1 for the correct class and -1 otherwise.\n",
    "    \"\"\"\n",
    "    N = y.shape[0]\n",
    "    Y = np.ones((N, k)) * -1\n",
    "    for i in range(N):\n",
    "        Y[i, y[i]] *= -1 # Make the correct class become +1.\n",
    "    return Y"
   ]
  },
  {
   "cell_type": "code",
   "execution_count": null,
   "metadata": {},
   "outputs": [],
   "source": [
    "Y_one_hot = one_hot_labels(y_train, k)"
   ]
  },
  {
   "cell_type": "code",
   "execution_count": null,
   "metadata": {},
   "outputs": [],
   "source": [
    "def calc_pseudo_ws(Wts, vts, Y, T):\n",
    "    w_pseudo_ts = []\n",
    "    for t in range(T):\n",
    "        #W_t = Wts[t + 1] # skip W_0\n",
    "        W_t = Wts[t]\n",
    "        v_t = vts[t] \n",
    "        # Get all the y_i,l * v_l in one matrix\n",
    "        Y_mult_v_t = np.multiply(Y, v_t)\n",
    "        # The above is either 1 or -1, to get an indicator\n",
    "        # about whether their product is +1 or -1 you can \n",
    "        # add one to the whole matrix and all the -1 -> 0,\n",
    "        # or add negative one to the whole matrix and all\n",
    "        # the +1 -> 0. You just need to normalize by \\pm 1/2,\n",
    "        # to get an indicator or a matrix mask.\n",
    "        w_p_mask = ((Y_mult_v_t + 1) * 0.5).astype('int')\n",
    "        w_n_mask = ((Y_mult_v_t - 1) * -0.5).astype('int')\n",
    "        w_p_t = np.sum(np.multiply(W_t, w_p_mask), axis=1)\n",
    "        w_n_t = np.sum(np.multiply(W_t, w_n_mask), axis=1)\n",
    "        w_pseudo_t = np.sum(np.abs(w_p_t - w_n_t))\n",
    "        w_pseudo_ts.append(w_pseudo_t)\n",
    "    return w_pseudo_ts"
   ]
  },
  {
   "cell_type": "code",
   "execution_count": null,
   "metadata": {},
   "outputs": [],
   "source": [
    "pseudo_W_ts = calc_pseudo_ws(d_ts, v_ts, Y_one_hot, T)"
   ]
  },
  {
   "cell_type": "code",
   "execution_count": null,
   "metadata": {},
   "outputs": [],
   "source": [
    "# Function for plotting Pseudo weights on same plot for two datasets\n",
    "def make_plot(data_to_plot, T, ylabel, xlabel, title):\n",
    "    ts = np.linspace(1, T, num=T)\n",
    "    plt.plot(ts, data_to_plot) #, label='Pseudo Weights')\n",
    "    #plt.legend(loc='best')\n",
    "    plt.xlabel(xlabel)\n",
    "    plt.ylabel(ylabel)\n",
    "    plt.title(title)"
   ]
  },
  {
   "cell_type": "code",
   "execution_count": null,
   "metadata": {},
   "outputs": [],
   "source": [
    "make_plot(pseudo_W_ts, T, \"Pseudo Weight Value\", \"T\", \"Results\")"
   ]
  },
  {
   "cell_type": "code",
   "execution_count": null,
   "metadata": {},
   "outputs": [],
   "source": [
    "np.min(pseudo_W_ts)"
   ]
  },
  {
   "cell_type": "code",
   "execution_count": null,
   "metadata": {},
   "outputs": [],
   "source": [
    "pseudo_W_ts[0]"
   ]
  },
  {
   "cell_type": "markdown",
   "metadata": {},
   "source": [
    "## Plot training and test error"
   ]
  },
  {
   "cell_type": "code",
   "execution_count": null,
   "metadata": {},
   "outputs": [],
   "source": [
    "make_plot(err_tr, T, \"Training Error\", \"T\", \"Results\")"
   ]
  },
  {
   "cell_type": "code",
   "execution_count": null,
   "metadata": {},
   "outputs": [],
   "source": []
  }
 ],
 "metadata": {
  "kernelspec": {
   "display_name": "Python 3",
   "language": "python",
   "name": "python3"
  },
  "language_info": {
   "codemirror_mode": {
    "name": "ipython",
    "version": 3
   },
   "file_extension": ".py",
   "mimetype": "text/x-python",
   "name": "python",
   "nbconvert_exporter": "python",
   "pygments_lexer": "ipython3",
   "version": "3.6.8"
  }
 },
 "nbformat": 4,
 "nbformat_minor": 2
}
