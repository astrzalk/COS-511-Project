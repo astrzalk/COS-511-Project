{
 "cells": [
  {
   "cell_type": "code",
   "execution_count": 1,
   "metadata": {},
   "outputs": [],
   "source": [
    "%matplotlib inline\n",
    "\n",
    "import sys\n",
    "sys.path.append(\"..\") # This allows for importing from other directories above\n",
    "# Our imports\n",
    "from models.adaboost_mh import AdaBoostMH\n",
    "from models.weak_learner import stump_base as weak_clf\n",
    "# Standard Imports\n",
    "import numpy as np\n",
    "import matplotlib.pyplot as plt\n",
    "\n",
    "\n",
    "# Load the data\n",
    "switch = 3\n",
    "if switch == 0:\n",
    "    X_train = np.load('../data/pendigits/pendigits_train_data.npy')\n",
    "    y_train = np.load('../data/pendigits/pendigits_train_labels.npy')\n",
    "    X_test = np.load('../data/pendigits/pendigits_test_data.npy')\n",
    "    y_test = np.load('../data/pendigits/pendigits_test_labels.npy')\n",
    "    k = 10\n",
    "elif switch == 1:\n",
    "    X_train = np.load('../data/synth/synth_train_data.npy')\n",
    "    y_train = np.load('../data/synth/synth_train_labels.npy')\n",
    "    X_test = np.load('../data/synth/synth_test_data.npy')\n",
    "    y_test = np.load('../data/synth/synth_test_labels.npy')\n",
    "    k = 10\n",
    "elif switch == 2:\n",
    "    X_train = np.load('../data/synthBinary/synthBinary_train_data.npy')\n",
    "    y_train = np.load('../data/synthBinary/synthBinary_train_labels.npy')\n",
    "    X_test = np.load('../data/synthBinary/synthBinary_test_data.npy')\n",
    "    y_test = np.load('../data/synthBinary/synthBinary_test_labels.npy')\n",
    "    k = 2\n",
    "else:\n",
    "    X_train = np.load('../data/synthTernary/synthTernary_train_data.npy')\n",
    "    y_train = np.load('../data/synthTernary/synthTernary_train_labels.npy')\n",
    "    X_test = np.load('../data/synthTernary/synthTernary_test_data.npy')\n",
    "    y_test = np.load('../data/synthTernary/synthTernary_test_labels.npy')\n",
    "    k = 3\n",
    "\n",
    "y_train = y_train[0:6]\n",
    "X_train = X_train[0:6]\n",
    "    \n",
    "# Initialize model \n",
    "model = AdaBoostMH(X_train, y_train, X_test, y_test, 0.5)"
   ]
  },
  {
   "cell_type": "code",
   "execution_count": 2,
   "metadata": {},
   "outputs": [
    {
     "name": "stdout",
     "output_type": "stream",
     "text": [
      "Round 1\n",
      "alpha is 0.34657359027997264\n",
      "Edge is 0.3333333333333333\n",
      "Energy is 0.9428090415820634\n",
      "v is [-1. -1. -1.]\n",
      "b is -inf\n",
      " col is 0\n",
      "Round 2\n",
      "alpha is 0.34657359027997264\n",
      "Edge is 0.3333333333333333\n",
      "Energy is 0.9428090415820635\n",
      "v is [-1.  1.  1.]\n",
      "b is 0.5\n",
      " col is 0\n",
      "Round 3\n",
      "alpha is 0.394228680182135\n",
      "Edge is 0.37500000000000006\n",
      "Energy is 0.9270248108869579\n",
      "v is [-1. -1.  1.]\n",
      "b is 4.5\n",
      " col is 0\n",
      "Round 4\n",
      "alpha is 0.3602730773740297\n",
      "Edge is 0.34545454545454546\n",
      "Energy is 0.9384354836773775\n",
      "v is [-1. -1.  1.]\n",
      "b is 1.5\n",
      " col is 0\n",
      "Round 5\n",
      "alpha is 0.39030324294426566\n",
      "Edge is 0.37162162162162143\n",
      "Energy is 0.9283842794572279\n",
      "v is [ 1.  1. -1.]\n",
      "b is 2.5\n",
      " col is 0\n",
      "Round 6\n",
      "alpha is 0.4352999058858867\n",
      "Edge is 0.4097409820435405\n",
      "Energy is 0.9122019116588141\n",
      "v is [-1.  1.  1.]\n",
      "b is 3.5\n",
      " col is 0\n",
      "Round 7\n",
      "alpha is 0.40390739260321107\n",
      "Edge is 0.38328730579195547\n",
      "Energy is 0.9236291686703836\n",
      "v is [ 1. -1. -1.]\n",
      "b is 2.5\n",
      " col is 0\n",
      "Round 8\n",
      "alpha is 0.3531928808289539\n",
      "Edge is 0.3392041079578934\n",
      "Energy is 0.9407128005637478\n",
      "v is [-1. -1.  1.]\n",
      "b is 1.5\n",
      " col is 0\n",
      "Round 9\n",
      "alpha is 0.3352165285261047\n",
      "Edge is 0.3232002422775165\n",
      "Energy is 0.9463305994163745\n",
      "v is [-1.  1. -1.]\n",
      "b is 0.5\n",
      " col is 0\n",
      "Round 10\n",
      "alpha is 0.3096637069704641\n",
      "Edge is 0.30013112784861723\n",
      "Energy is 0.9538979537121971\n",
      "v is [ 1. -1.  1.]\n",
      "b is 1.5\n",
      " col is 0\n"
     ]
    }
   ],
   "source": [
    "T = 10\n",
    "verbose = 2\n",
    "err_tr, err_te, gams, v_ts, d_ts = model.run_factorized(T, weak_clf, 'unif', verbose)"
   ]
  },
  {
   "cell_type": "code",
   "execution_count": 3,
   "metadata": {},
   "outputs": [
    {
     "name": "stdout",
     "output_type": "stream",
     "text": [
      "0.0\n"
     ]
    }
   ],
   "source": [
    "print(err_tr)"
   ]
  },
  {
   "cell_type": "code",
   "execution_count": 4,
   "metadata": {},
   "outputs": [
    {
     "name": "stdout",
     "output_type": "stream",
     "text": [
      "0.35555555555555557\n"
     ]
    }
   ],
   "source": [
    "print(err_te)"
   ]
  },
  {
   "cell_type": "code",
   "execution_count": 5,
   "metadata": {},
   "outputs": [
    {
     "data": {
      "text/plain": [
       "11"
      ]
     },
     "execution_count": 5,
     "metadata": {},
     "output_type": "execute_result"
    }
   ],
   "source": [
    "len(d_ts)"
   ]
  },
  {
   "cell_type": "code",
   "execution_count": 6,
   "metadata": {},
   "outputs": [],
   "source": [
    "# One hot encode \n",
    "def one_hot_labels(y,k):\n",
    "    \"\"\"\n",
    "    y: N by 1 numpy-array corresponding to the labels.\n",
    "    k: float, corresponding to number of unique classes.\n",
    "    returns: Y, an N by k numpy-array with each row containing\n",
    "             a 1 for the correct class and -1 otherwise.\n",
    "    \"\"\"\n",
    "    N = y.shape[0]\n",
    "    Y = np.ones((N, k)) * -1\n",
    "    for i in range(N):\n",
    "        Y[i, y[i]] *= -1 # Make the correct class become +1.\n",
    "    return Y"
   ]
  },
  {
   "cell_type": "code",
   "execution_count": 7,
   "metadata": {},
   "outputs": [],
   "source": [
    "Y_one_hot = one_hot_labels(y_train, k)"
   ]
  },
  {
   "cell_type": "code",
   "execution_count": 8,
   "metadata": {},
   "outputs": [],
   "source": [
    "def calc_pseudo_ws(Wts, vts, Y, T):\n",
    "    w_pseudo_ts = []\n",
    "    for t in range(T):\n",
    "        W_t = Wts[t + 1] # skip W_0\n",
    "        v_t = vts[t] \n",
    "        # Get all the y_i,l * v_l in one matrix\n",
    "        Y_mult_v_t = np.multiply(Y, v_t)\n",
    "        # The above is either 1 or -1, to get an indicator\n",
    "        # about whether their product is +1 or -1 you can \n",
    "        # add one to the whole matrix and all the -1 -> 0,\n",
    "        # or add negative one to the whole matrix and all\n",
    "        # the +1 -> 0. You just need to normalize by \\pm 1/2,\n",
    "        # to get an indicator or a matrix mask.\n",
    "        w_p_mask = ((Y_mult_v_t + 1) * 0.5).astype('int')\n",
    "        w_n_mask = ((Y_mult_v_t - 1) * -0.5).astype('int')\n",
    "        w_p_t = np.sum(np.multiply(W_t, w_p_mask), axis=1)\n",
    "        w_n_t = np.sum(np.multiply(W_t, w_n_mask), axis=1)\n",
    "        w_pseudo_t = np.sum(np.abs(w_p_t - w_n_t))\n",
    "        w_pseudo_ts.append(w_pseudo_t)\n",
    "    return w_pseudo_ts"
   ]
  },
  {
   "cell_type": "code",
   "execution_count": 9,
   "metadata": {},
   "outputs": [],
   "source": [
    "pseudo_W_ts = calc_pseudo_ws(d_ts, v_ts, Y_one_hot, T)"
   ]
  },
  {
   "cell_type": "code",
   "execution_count": 10,
   "metadata": {},
   "outputs": [
    {
     "data": {
      "text/plain": [
       "[0.0,\n",
       " 0.5000000000000001,\n",
       " 0.5000000000000001,\n",
       " 0.5405405405405405,\n",
       " 0.42239172272542697,\n",
       " 0.5767094378377701,\n",
       " 0.49595890980296675,\n",
       " 0.4786129751375228,\n",
       " 0.8000372760375891,\n",
       " 0.7592939998558178]"
      ]
     },
     "execution_count": 10,
     "metadata": {},
     "output_type": "execute_result"
    }
   ],
   "source": [
    "pseudo_W_ts"
   ]
  },
  {
   "cell_type": "code",
   "execution_count": 11,
   "metadata": {},
   "outputs": [],
   "source": [
    "# Function for plotting Pseudo weights on same plot for two datasets\n",
    "def plot_ws(pseudo_W_s, T, title):\n",
    "    ts = np.linspace(1, T, num=T)\n",
    "    plt.plot(ts, pseudo_W_s, label='Pseudo Weights')\n",
    "    plt.legend(loc='best')\n",
    "    plt.xlabel(\"T\")\n",
    "    plt.ylabel(\"Pseudo Weight Value\")\n",
    "    plt.title(title)"
   ]
  },
  {
   "cell_type": "code",
   "execution_count": 12,
   "metadata": {},
   "outputs": [
    {
     "data": {
      "image/png": "[encoded data removed]",
      "text/plain": [
       "<Figure size 432x288 with 1 Axes>"
      ]
     },
     "metadata": {
      "needs_background": "light"
     },
     "output_type": "display_data"
    }
   ],
   "source": [
    "plot_ws(pseudo_W_ts, T, \"Results\")"
   ]
  },
  {
   "cell_type": "code",
   "execution_count": 13,
   "metadata": {},
   "outputs": [
    {
     "data": {
      "text/plain": [
       "0.0"
      ]
     },
     "execution_count": 13,
     "metadata": {},
     "output_type": "execute_result"
    }
   ],
   "source": [
    "np.min(pseudo_W_ts)"
   ]
  },
  {
   "cell_type": "code",
   "execution_count": null,
   "metadata": {},
   "outputs": [],
   "source": []
  }
 ],
 "metadata": {
  "kernelspec": {
   "display_name": "Python 3",
   "language": "python",
   "name": "python3"
  },
  "language_info": {
   "codemirror_mode": {
    "name": "ipython",
    "version": 3
   },
   "file_extension": ".py",
   "mimetype": "text/x-python",
   "name": "python",
   "nbconvert_exporter": "python",
   "pygments_lexer": "ipython3",
   "version": "3.6.8"
  }
 },
 "nbformat": 4,
 "nbformat_minor": 2
}
